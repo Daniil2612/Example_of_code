{
 "cells": [
  {
   "cell_type": "markdown",
   "metadata": {
    "id": "hc1qwB812fuA"
   },
   "source": [
    "<div align=\"center\">\n",
    "  <img src=\"data:image/png;base64,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\" alt=\"Обложка Baseline\" width=\"600\">\n",
    "</div>"
   ]
  },
  {
   "cell_type": "markdown",
   "metadata": {
    "id": "HGPRtC7P2jPw"
   },
   "source": [
    "## Этап 1. Установка библиотек и импорт данных"
   ]
  },
  {
   "cell_type": "code",
   "execution_count": null,
   "metadata": {
    "colab": {
     "base_uri": "https://localhost:8080/"
    },
    "id": "kGSDPTnW2nBr",
    "outputId": "bc5d3a2f-6b60-4d35-8191-a7f2710c049d"
   },
   "outputs": [],
   "source": [
    "# Cкачиваем необходимые библиотеки для работы\n",
    "!pip install pandas numpy scikit-learn"
   ]
  },
  {
   "cell_type": "code",
   "execution_count": 1,
   "metadata": {
    "id": "wS3OrPqC2qCI"
   },
   "outputs": [],
   "source": [
    "from sklearn.ensemble import HistGradientBoostingClassifier\n",
    "from sklearn.model_selection import train_test_split\n",
    "from sklearn.metrics import roc_auc_score\n",
    "import pandas as pd\n",
    "import numpy as np\n",
    "import glob\n",
    "import os\n",
    "import pickle"
   ]
  },
  {
   "cell_type": "markdown",
   "metadata": {
    "id": "Vv2KRQO22t5A"
   },
   "source": [
    "Подключаемся в Google Drive, чтобы работать с файлами из Google Colaboratory\n"
   ]
  },
  {
   "cell_type": "code",
   "execution_count": null,
   "metadata": {
    "colab": {
     "base_uri": "https://localhost:8080/"
    },
    "id": "Fj-wKkb-2wH-",
    "outputId": "52280faa-1f5f-4f75-b01e-6bdd807ae71c"
   },
   "outputs": [],
   "source": [
    "from google.colab import drive\n",
    "drive.mount('/content/drive', force_remount=True)"
   ]
  },
  {
   "cell_type": "markdown",
   "metadata": {
    "id": "PUtdtymO2yip"
   },
   "source": [
    "Указываем путь к корневым папкам с данными test и train\n",
    "\n",
    "__Обратите внимание:__ если вы создали папку с названием отличным от _\"Хакатон Альфа-банка. Кейс 3\"_, то необходимо поменять путь к директории и ссылки ниже"
   ]
  },
  {
   "cell_type": "code",
   "execution_count": 3,
   "metadata": {
    "id": "ux8cpoLm20k3"
   },
   "outputs": [],
   "source": [
    "# Путь к папке с тренировочными данными\n",
    "path_train = 'C:/Users/Даниил/Downloads/Кейс-3. Отток юридических лиц из расчетно-кассового обслуживания/train'\n",
    "# Путь к папке с тестовыми данными\n",
    "path_test = 'C:/Users/Даниил/Downloads/Кейс-3. Отток юридических лиц из расчетно-кассового обслуживания/test'"
   ]
  },
  {
   "cell_type": "code",
   "execution_count": null,
   "metadata": {
    "colab": {
     "base_uri": "https://localhost:8080/"
    },
    "id": "j11YlKvciZoD",
    "outputId": "17df5de9-6cf7-47bb-a8e3-65f074dfeb2e"
   },
   "outputs": [],
   "source": [
    "from google.colab import drive\n",
    "drive.mount('/content/drive')"
   ]
  },
  {
   "cell_type": "markdown",
   "metadata": {
    "id": "lcAdLNCz21LL"
   },
   "source": [
    "Получим список файлов в каждой из папок с данными"
   ]
  },
  {
   "cell_type": "code",
   "execution_count": 4,
   "metadata": {
    "colab": {
     "base_uri": "https://localhost:8080/"
    },
    "id": "DxiavawH242k",
    "outputId": "235dd35f-1e1e-44c4-aaff-f09b1d76d7a0"
   },
   "outputs": [
    {
     "name": "stdout",
     "output_type": "stream",
     "text": [
      "Список файлов в репозитории train: ['train_1.csv', 'train_10.csv', 'train_2.csv', 'train_3.csv', 'train_4.csv', 'train_5.csv', 'train_6.csv', 'train_7.csv', 'train_8.csv', 'train_9.csv']\n",
      "Список файлов в репозитории test: ['test_1.csv', 'test_10.csv', 'test_2.csv', 'test_3.csv', 'test_4.csv', 'test_5.csv', 'test_6.csv', 'test_7.csv', 'test_8.csv', 'test_9.csv']\n"
     ]
    }
   ],
   "source": [
    "print(*[f'Список файлов в репозитории {x.split(\"/\")[-1]}: {sorted(os.listdir(x))}' for x in [path_train, path_test]], sep='\\n')"
   ]
  },
  {
   "cell_type": "markdown",
   "metadata": {
    "id": "CwOyvyVm25ka"
   },
   "source": [
    "Объединим тренировочные и тестовые данные в единые датасеты train и test"
   ]
  },
  {
   "cell_type": "code",
   "execution_count": 4,
   "metadata": {
    "colab": {
     "base_uri": "https://localhost:8080/",
     "height": 403
    },
    "id": "etPZ7F5_29Te",
    "outputId": "fc57a2c6-b423-4670-a315-ce97bcb01e5d"
   },
   "outputs": [
    {
     "data": {
      "text/plain": [
       "'Размерность полных тренировочных данных составляет: 413194 строки и 189 столбцов'"
      ]
     },
     "metadata": {},
     "output_type": "display_data"
    },
    {
     "data": {
      "text/html": [
       "<div>\n",
       "<style scoped>\n",
       "    .dataframe tbody tr th:only-of-type {\n",
       "        vertical-align: middle;\n",
       "    }\n",
       "\n",
       "    .dataframe tbody tr th {\n",
       "        vertical-align: top;\n",
       "    }\n",
       "\n",
       "    .dataframe thead th {\n",
       "        text-align: right;\n",
       "    }\n",
       "</style>\n",
       "<table border=\"1\" class=\"dataframe\">\n",
       "  <thead>\n",
       "    <tr style=\"text-align: right;\">\n",
       "      <th></th>\n",
       "      <th>target</th>\n",
       "      <th>smpl</th>\n",
       "      <th>id</th>\n",
       "      <th>feature_1</th>\n",
       "      <th>feature_2</th>\n",
       "      <th>feature_3</th>\n",
       "      <th>feature_4</th>\n",
       "      <th>feature_5</th>\n",
       "      <th>feature_6</th>\n",
       "      <th>feature_7</th>\n",
       "      <th>...</th>\n",
       "      <th>feature_177</th>\n",
       "      <th>feature_178</th>\n",
       "      <th>feature_179</th>\n",
       "      <th>feature_180</th>\n",
       "      <th>feature_181</th>\n",
       "      <th>feature_182</th>\n",
       "      <th>feature_183</th>\n",
       "      <th>feature_184</th>\n",
       "      <th>feature_185</th>\n",
       "      <th>feature_186</th>\n",
       "    </tr>\n",
       "  </thead>\n",
       "  <tbody>\n",
       "    <tr>\n",
       "      <th>0</th>\n",
       "      <td>0</td>\n",
       "      <td>train</td>\n",
       "      <td>0</td>\n",
       "      <td>0.160673</td>\n",
       "      <td>0.967855</td>\n",
       "      <td>-0.744988</td>\n",
       "      <td>0.312510</td>\n",
       "      <td>0.747232</td>\n",
       "      <td>-1.033859</td>\n",
       "      <td>50.0</td>\n",
       "      <td>...</td>\n",
       "      <td>-1.253606</td>\n",
       "      <td>-0.907266</td>\n",
       "      <td>9.0</td>\n",
       "      <td>1.482576</td>\n",
       "      <td>0.110931</td>\n",
       "      <td>1.832169</td>\n",
       "      <td>0.731675</td>\n",
       "      <td>-0.739851</td>\n",
       "      <td>99.0</td>\n",
       "      <td>-0.005449</td>\n",
       "    </tr>\n",
       "    <tr>\n",
       "      <th>1</th>\n",
       "      <td>0</td>\n",
       "      <td>train</td>\n",
       "      <td>1</td>\n",
       "      <td>1.215775</td>\n",
       "      <td>0.409084</td>\n",
       "      <td>-0.499872</td>\n",
       "      <td>1.081988</td>\n",
       "      <td>0.709146</td>\n",
       "      <td>1.164660</td>\n",
       "      <td>1.0</td>\n",
       "      <td>...</td>\n",
       "      <td>-0.106539</td>\n",
       "      <td>-0.701140</td>\n",
       "      <td>9.0</td>\n",
       "      <td>0.175049</td>\n",
       "      <td>0.532301</td>\n",
       "      <td>0.116916</td>\n",
       "      <td>-1.229896</td>\n",
       "      <td>1.331139</td>\n",
       "      <td>1.0</td>\n",
       "      <td>-0.353498</td>\n",
       "    </tr>\n",
       "    <tr>\n",
       "      <th>2</th>\n",
       "      <td>1</td>\n",
       "      <td>train</td>\n",
       "      <td>2</td>\n",
       "      <td>-0.622386</td>\n",
       "      <td>-0.220737</td>\n",
       "      <td>-0.967224</td>\n",
       "      <td>-1.213633</td>\n",
       "      <td>-0.782765</td>\n",
       "      <td>-0.352342</td>\n",
       "      <td>2.0</td>\n",
       "      <td>...</td>\n",
       "      <td>-0.435479</td>\n",
       "      <td>-0.585773</td>\n",
       "      <td>9.0</td>\n",
       "      <td>0.100763</td>\n",
       "      <td>-0.586752</td>\n",
       "      <td>-0.514722</td>\n",
       "      <td>-0.688141</td>\n",
       "      <td>0.290357</td>\n",
       "      <td>2.0</td>\n",
       "      <td>-0.553296</td>\n",
       "    </tr>\n",
       "    <tr>\n",
       "      <th>3</th>\n",
       "      <td>0</td>\n",
       "      <td>train</td>\n",
       "      <td>3</td>\n",
       "      <td>-1.943180</td>\n",
       "      <td>-0.222065</td>\n",
       "      <td>1.143199</td>\n",
       "      <td>1.430957</td>\n",
       "      <td>1.120050</td>\n",
       "      <td>-0.898908</td>\n",
       "      <td>3.0</td>\n",
       "      <td>...</td>\n",
       "      <td>-0.989614</td>\n",
       "      <td>-1.490202</td>\n",
       "      <td>9.0</td>\n",
       "      <td>0.556689</td>\n",
       "      <td>0.320663</td>\n",
       "      <td>0.057659</td>\n",
       "      <td>0.987459</td>\n",
       "      <td>1.749471</td>\n",
       "      <td>3.0</td>\n",
       "      <td>0.950720</td>\n",
       "    </tr>\n",
       "    <tr>\n",
       "      <th>4</th>\n",
       "      <td>0</td>\n",
       "      <td>train</td>\n",
       "      <td>4</td>\n",
       "      <td>0.473792</td>\n",
       "      <td>0.204881</td>\n",
       "      <td>-0.382441</td>\n",
       "      <td>0.397711</td>\n",
       "      <td>-0.419451</td>\n",
       "      <td>1.178728</td>\n",
       "      <td>2.0</td>\n",
       "      <td>...</td>\n",
       "      <td>2.170770</td>\n",
       "      <td>0.879764</td>\n",
       "      <td>9.0</td>\n",
       "      <td>0.119195</td>\n",
       "      <td>0.548174</td>\n",
       "      <td>0.108961</td>\n",
       "      <td>1.447481</td>\n",
       "      <td>-0.129048</td>\n",
       "      <td>2.0</td>\n",
       "      <td>2.083665</td>\n",
       "    </tr>\n",
       "  </tbody>\n",
       "</table>\n",
       "<p>5 rows × 189 columns</p>\n",
       "</div>"
      ],
      "text/plain": [
       "   target   smpl  id  feature_1  feature_2  feature_3  feature_4  feature_5   \n",
       "0       0  train   0   0.160673   0.967855  -0.744988   0.312510   0.747232  \\\n",
       "1       0  train   1   1.215775   0.409084  -0.499872   1.081988   0.709146   \n",
       "2       1  train   2  -0.622386  -0.220737  -0.967224  -1.213633  -0.782765   \n",
       "3       0  train   3  -1.943180  -0.222065   1.143199   1.430957   1.120050   \n",
       "4       0  train   4   0.473792   0.204881  -0.382441   0.397711  -0.419451   \n",
       "\n",
       "   feature_6  feature_7  ...  feature_177  feature_178  feature_179   \n",
       "0  -1.033859       50.0  ...    -1.253606    -0.907266          9.0  \\\n",
       "1   1.164660        1.0  ...    -0.106539    -0.701140          9.0   \n",
       "2  -0.352342        2.0  ...    -0.435479    -0.585773          9.0   \n",
       "3  -0.898908        3.0  ...    -0.989614    -1.490202          9.0   \n",
       "4   1.178728        2.0  ...     2.170770     0.879764          9.0   \n",
       "\n",
       "   feature_180  feature_181  feature_182  feature_183  feature_184   \n",
       "0     1.482576     0.110931     1.832169     0.731675    -0.739851  \\\n",
       "1     0.175049     0.532301     0.116916    -1.229896     1.331139   \n",
       "2     0.100763    -0.586752    -0.514722    -0.688141     0.290357   \n",
       "3     0.556689     0.320663     0.057659     0.987459     1.749471   \n",
       "4     0.119195     0.548174     0.108961     1.447481    -0.129048   \n",
       "\n",
       "   feature_185  feature_186  \n",
       "0         99.0    -0.005449  \n",
       "1          1.0    -0.353498  \n",
       "2          2.0    -0.553296  \n",
       "3          3.0     0.950720  \n",
       "4          2.0     2.083665  \n",
       "\n",
       "[5 rows x 189 columns]"
      ]
     },
     "metadata": {},
     "output_type": "display_data"
    },
    {
     "data": {
      "text/plain": [
       "smpl\n",
       "train    413194\n",
       "Name: count, dtype: int64"
      ]
     },
     "execution_count": 4,
     "metadata": {},
     "output_type": "execute_result"
    }
   ],
   "source": [
    "# Получим список путей к файлам в папке train\n",
    "filenames_train = glob.glob(path_train + \"/*.csv\")\n",
    "\n",
    "# Создадим список для записи считанных файлов train\n",
    "data_files_train = []\n",
    "\n",
    "# Считаем все файлы train и добавим их в список\n",
    "for filename in filenames_train:\n",
    "    data_files_train.append(pd.read_csv(filename))\n",
    "\n",
    "# Объединим тренировочные данные в единый датасет\n",
    "data_train = pd.concat(data_files_train, ignore_index=True)\n",
    "\n",
    "# Выведем информацию о размерности полученных тренировочных данных\n",
    "display('Размерность полных тренировочных данных составляет: {} строки и {} столбцов'.format(*data_train.shape))\n",
    "\n",
    "# Выведем первые 5 строк тренировочных данных\n",
    "display(data_train.head())\n",
    "\n",
    "# Удостоверимся, что перед нами данные только из выборки train\n",
    "data_train['smpl'].value_counts(dropna=False)"
   ]
  },
  {
   "cell_type": "markdown",
   "metadata": {
    "id": "d34mfyOC3GTQ"
   },
   "source": [
    "## Этап 2. Работа с моделью"
   ]
  },
  {
   "cell_type": "code",
   "execution_count": 5,
   "metadata": {
    "colab": {
     "base_uri": "https://localhost:8080/",
     "height": 403
    },
    "id": "GJIMfCO43Awz",
    "outputId": "0832c18c-8634-4a77-ab76-4e6d915bb339"
   },
   "outputs": [
    {
     "data": {
      "text/plain": [
       "'Размерность полных тренировочных данных составляет: 413194 строк и 189 столбцов'"
      ]
     },
     "metadata": {},
     "output_type": "display_data"
    },
    {
     "data": {
      "text/html": [
       "<div>\n",
       "<style scoped>\n",
       "    .dataframe tbody tr th:only-of-type {\n",
       "        vertical-align: middle;\n",
       "    }\n",
       "\n",
       "    .dataframe tbody tr th {\n",
       "        vertical-align: top;\n",
       "    }\n",
       "\n",
       "    .dataframe thead th {\n",
       "        text-align: right;\n",
       "    }\n",
       "</style>\n",
       "<table border=\"1\" class=\"dataframe\">\n",
       "  <thead>\n",
       "    <tr style=\"text-align: right;\">\n",
       "      <th></th>\n",
       "      <th>target</th>\n",
       "      <th>smpl</th>\n",
       "      <th>id</th>\n",
       "      <th>feature_1</th>\n",
       "      <th>feature_2</th>\n",
       "      <th>feature_3</th>\n",
       "      <th>feature_4</th>\n",
       "      <th>feature_5</th>\n",
       "      <th>feature_6</th>\n",
       "      <th>feature_7</th>\n",
       "      <th>...</th>\n",
       "      <th>feature_177</th>\n",
       "      <th>feature_178</th>\n",
       "      <th>feature_179</th>\n",
       "      <th>feature_180</th>\n",
       "      <th>feature_181</th>\n",
       "      <th>feature_182</th>\n",
       "      <th>feature_183</th>\n",
       "      <th>feature_184</th>\n",
       "      <th>feature_185</th>\n",
       "      <th>feature_186</th>\n",
       "    </tr>\n",
       "  </thead>\n",
       "  <tbody>\n",
       "    <tr>\n",
       "      <th>0</th>\n",
       "      <td>0</td>\n",
       "      <td>train</td>\n",
       "      <td>0</td>\n",
       "      <td>0.160673</td>\n",
       "      <td>0.967855</td>\n",
       "      <td>-0.744988</td>\n",
       "      <td>0.312510</td>\n",
       "      <td>0.747232</td>\n",
       "      <td>-1.033859</td>\n",
       "      <td>50.0</td>\n",
       "      <td>...</td>\n",
       "      <td>-1.253606</td>\n",
       "      <td>-0.907266</td>\n",
       "      <td>9.0</td>\n",
       "      <td>1.482576</td>\n",
       "      <td>0.110931</td>\n",
       "      <td>1.832169</td>\n",
       "      <td>0.731675</td>\n",
       "      <td>-0.739851</td>\n",
       "      <td>99.0</td>\n",
       "      <td>-0.005449</td>\n",
       "    </tr>\n",
       "    <tr>\n",
       "      <th>1</th>\n",
       "      <td>0</td>\n",
       "      <td>train</td>\n",
       "      <td>1</td>\n",
       "      <td>1.215775</td>\n",
       "      <td>0.409084</td>\n",
       "      <td>-0.499872</td>\n",
       "      <td>1.081988</td>\n",
       "      <td>0.709146</td>\n",
       "      <td>1.164660</td>\n",
       "      <td>1.0</td>\n",
       "      <td>...</td>\n",
       "      <td>-0.106539</td>\n",
       "      <td>-0.701140</td>\n",
       "      <td>9.0</td>\n",
       "      <td>0.175049</td>\n",
       "      <td>0.532301</td>\n",
       "      <td>0.116916</td>\n",
       "      <td>-1.229896</td>\n",
       "      <td>1.331139</td>\n",
       "      <td>1.0</td>\n",
       "      <td>-0.353498</td>\n",
       "    </tr>\n",
       "    <tr>\n",
       "      <th>2</th>\n",
       "      <td>1</td>\n",
       "      <td>train</td>\n",
       "      <td>2</td>\n",
       "      <td>-0.622386</td>\n",
       "      <td>-0.220737</td>\n",
       "      <td>-0.967224</td>\n",
       "      <td>-1.213633</td>\n",
       "      <td>-0.782765</td>\n",
       "      <td>-0.352342</td>\n",
       "      <td>2.0</td>\n",
       "      <td>...</td>\n",
       "      <td>-0.435479</td>\n",
       "      <td>-0.585773</td>\n",
       "      <td>9.0</td>\n",
       "      <td>0.100763</td>\n",
       "      <td>-0.586752</td>\n",
       "      <td>-0.514722</td>\n",
       "      <td>-0.688141</td>\n",
       "      <td>0.290357</td>\n",
       "      <td>2.0</td>\n",
       "      <td>-0.553296</td>\n",
       "    </tr>\n",
       "    <tr>\n",
       "      <th>3</th>\n",
       "      <td>0</td>\n",
       "      <td>train</td>\n",
       "      <td>3</td>\n",
       "      <td>-1.943180</td>\n",
       "      <td>-0.222065</td>\n",
       "      <td>1.143199</td>\n",
       "      <td>1.430957</td>\n",
       "      <td>1.120050</td>\n",
       "      <td>-0.898908</td>\n",
       "      <td>3.0</td>\n",
       "      <td>...</td>\n",
       "      <td>-0.989614</td>\n",
       "      <td>-1.490202</td>\n",
       "      <td>9.0</td>\n",
       "      <td>0.556689</td>\n",
       "      <td>0.320663</td>\n",
       "      <td>0.057659</td>\n",
       "      <td>0.987459</td>\n",
       "      <td>1.749471</td>\n",
       "      <td>3.0</td>\n",
       "      <td>0.950720</td>\n",
       "    </tr>\n",
       "    <tr>\n",
       "      <th>4</th>\n",
       "      <td>0</td>\n",
       "      <td>train</td>\n",
       "      <td>4</td>\n",
       "      <td>0.473792</td>\n",
       "      <td>0.204881</td>\n",
       "      <td>-0.382441</td>\n",
       "      <td>0.397711</td>\n",
       "      <td>-0.419451</td>\n",
       "      <td>1.178728</td>\n",
       "      <td>2.0</td>\n",
       "      <td>...</td>\n",
       "      <td>2.170770</td>\n",
       "      <td>0.879764</td>\n",
       "      <td>9.0</td>\n",
       "      <td>0.119195</td>\n",
       "      <td>0.548174</td>\n",
       "      <td>0.108961</td>\n",
       "      <td>1.447481</td>\n",
       "      <td>-0.129048</td>\n",
       "      <td>2.0</td>\n",
       "      <td>2.083665</td>\n",
       "    </tr>\n",
       "  </tbody>\n",
       "</table>\n",
       "<p>5 rows × 189 columns</p>\n",
       "</div>"
      ],
      "text/plain": [
       "   target   smpl  id  feature_1  feature_2  feature_3  feature_4  feature_5   \n",
       "0       0  train   0   0.160673   0.967855  -0.744988   0.312510   0.747232  \\\n",
       "1       0  train   1   1.215775   0.409084  -0.499872   1.081988   0.709146   \n",
       "2       1  train   2  -0.622386  -0.220737  -0.967224  -1.213633  -0.782765   \n",
       "3       0  train   3  -1.943180  -0.222065   1.143199   1.430957   1.120050   \n",
       "4       0  train   4   0.473792   0.204881  -0.382441   0.397711  -0.419451   \n",
       "\n",
       "   feature_6  feature_7  ...  feature_177  feature_178  feature_179   \n",
       "0  -1.033859       50.0  ...    -1.253606    -0.907266          9.0  \\\n",
       "1   1.164660        1.0  ...    -0.106539    -0.701140          9.0   \n",
       "2  -0.352342        2.0  ...    -0.435479    -0.585773          9.0   \n",
       "3  -0.898908        3.0  ...    -0.989614    -1.490202          9.0   \n",
       "4   1.178728        2.0  ...     2.170770     0.879764          9.0   \n",
       "\n",
       "   feature_180  feature_181  feature_182  feature_183  feature_184   \n",
       "0     1.482576     0.110931     1.832169     0.731675    -0.739851  \\\n",
       "1     0.175049     0.532301     0.116916    -1.229896     1.331139   \n",
       "2     0.100763    -0.586752    -0.514722    -0.688141     0.290357   \n",
       "3     0.556689     0.320663     0.057659     0.987459     1.749471   \n",
       "4     0.119195     0.548174     0.108961     1.447481    -0.129048   \n",
       "\n",
       "   feature_185  feature_186  \n",
       "0         99.0    -0.005449  \n",
       "1          1.0    -0.353498  \n",
       "2          2.0    -0.553296  \n",
       "3          3.0     0.950720  \n",
       "4          2.0     2.083665  \n",
       "\n",
       "[5 rows x 189 columns]"
      ]
     },
     "metadata": {},
     "output_type": "display_data"
    },
    {
     "data": {
      "text/plain": [
       "smpl\n",
       "train    413194\n",
       "Name: count, dtype: int64"
      ]
     },
     "execution_count": 5,
     "metadata": {},
     "output_type": "execute_result"
    }
   ],
   "source": [
    "# Получим список путей к файлам в папке test\n",
    "filenames_test = glob.glob(path_test + \"/*.csv\")\n",
    "\n",
    "# Создадим список для записи считанных файлов test\n",
    "data_files_test = []\n",
    "\n",
    "# Считаем все файлы test и добавим их в список\n",
    "for filename in filenames_test:\n",
    "    data_files_test.append(pd.read_csv(filename))\n",
    "\n",
    "# Объединим тестовые данные в единый датасет\n",
    "data_test = pd.concat(data_files_test, ignore_index=True)\n",
    "\n",
    "# Выведем информацию о размерности полученных тестовых данных\n",
    "display('Размерность полных тренировочных данных составляет: {} строк и {} столбцов'.format(*data_test.shape))\n",
    "\n",
    "# Выведем первые 5 строк тренировочных данных\n",
    "display(data_test.head())\n",
    "\n",
    "# Удостоверимся, что перед нами данные только из выборки test\n",
    "data_test['smpl'].value_counts(dropna=False)"
   ]
  },
  {
   "cell_type": "code",
   "execution_count": 6,
   "metadata": {
    "colab": {
     "base_uri": "https://localhost:8080/"
    },
    "id": "AyL7riGq3IGG",
    "outputId": "84b78199-4509-49ce-d895-b63ee5486465"
   },
   "outputs": [
    {
     "name": "stdout",
     "output_type": "stream",
     "text": [
      "Метрика roc-auc на валидационных данных имеет значение: 0.8046222523097128\n"
     ]
    }
   ],
   "source": [
    "# Выделим признаки для обучения и искомый признак в датасете train\n",
    "# для обучения модели\n",
    "X = data_train.drop(['target', 'smpl'], axis=1)\n",
    "y = data_train['target']\n",
    "\n",
    "# Разобьем тренировочные данные на валидационный и тренировочный датасет в соотношении 7 к 3\n",
    "# Cтратифицируем выборки по искомому признаку, зафиксируем random_state для воспроизводимости\n",
    "X_train, X_test, y_train, y_test = train_test_split(X, y, random_state=42, stratify=y, test_size=0.3)\n",
    "\n",
    "# Обучим модель на тренировочной части тренировочных данных\n",
    "gbdt_clf = HistGradientBoostingClassifier(min_samples_leaf=1,\n",
    "                                          max_depth=20,\n",
    "                                          max_iter=125,\n",
    "                                          random_state=42).fit(X_train, y_train)\n",
    "\n",
    "# Получим предсказание с вероятностями для валидационной части тренировочного датасета\n",
    "y_pred = gbdt_clf.predict_proba(X_test)\n",
    "\n",
    "# Переведем предсказание в формат Series\n",
    "y_pred = pd.Series(y_pred[:, 1])\n",
    "\n",
    "# Высчитаем метрику roc-auc по валидационным данным\n",
    "print(f'Метрика roc-auc на валидационных данных имеет значение: {roc_auc_score(y_test, y_pred)}')"
   ]
  },
  {
   "cell_type": "markdown",
   "metadata": {
    "id": "oaxqwHECjZDj"
   },
   "source": [
    "## Этап 3: обработка данных"
   ]
  },
  {
   "cell_type": "code",
   "execution_count": 7,
   "metadata": {
    "colab": {
     "base_uri": "https://localhost:8080/"
    },
    "id": "XDUb3q1009kl",
    "outputId": "efe56769-9e65-41b5-b727-8c98919884b8"
   },
   "outputs": [
    {
     "name": "stdout",
     "output_type": "stream",
     "text": [
      "StandardScaler()\n",
      "[[-1.73204662  0.13153345  0.95328183 ... -0.75487496  5.89497436\n",
      "  -0.02104687]\n",
      " [-1.73203823  1.17807131  0.39807058 ...  1.30730283 -0.47131432\n",
      "  -0.36706455]\n",
      " [-1.73202985 -0.64516941 -0.22773786 ...  0.27094978 -0.4063522\n",
      "  -0.56569648]\n",
      " ...\n",
      " [ 1.38558951  0.11411102 -0.05947087 ... -1.56552548  4.20595899\n",
      "   0.45801294]\n",
      " [ 1.38559789  0.0487299   0.39515613 ...  0.11714565 -0.4063522\n",
      "  -0.63786297]\n",
      " [ 1.38560627 -0.25352649 -0.58045032 ...  0.33804838 -0.4063522\n",
      "   0.02322861]]\n"
     ]
    }
   ],
   "source": [
    "# нормализация(базовая)\n",
    "from sklearn.preprocessing import StandardScaler\n",
    "scaler = StandardScaler()\n",
    "print(scaler.fit(X))\n",
    "#print(scaler.mean_)\n",
    "X_new = scaler.transform(X)\n",
    "print(X_new)"
   ]
  },
  {
   "cell_type": "code",
   "execution_count": 8,
   "metadata": {
    "colab": {
     "base_uri": "https://localhost:8080/"
    },
    "id": "b6KxKwsT6fJ-",
    "outputId": "51e0c4ed-b318-4bba-fd95-3277d4a41755"
   },
   "outputs": [
    {
     "name": "stdout",
     "output_type": "stream",
     "text": [
      "             MI Score\n",
      "feature_71   0.043069\n",
      "feature_109  0.027147\n",
      "feature_72   0.026902\n",
      "feature_127  0.026851\n",
      "feature_16   0.026248\n",
      "...               ...\n",
      "feature_45   0.000000\n",
      "feature_48   0.000000\n",
      "feature_131  0.000000\n",
      "feature_159  0.000000\n",
      "feature_37   0.000000\n",
      "\n",
      "[187 rows x 1 columns]\n"
     ]
    }
   ],
   "source": [
    "file_path = 'C:/Users/Даниил/Downloads/mi_scores.pkl'\n",
    "\n",
    "# Open the file in binary mode and load the data\n",
    "with open(file_path, 'rb') as file:\n",
    "    mi_scores_df = pickle.load(file)\n",
    "print(mi_scores_df)"
   ]
  },
  {
   "cell_type": "code",
   "execution_count": null,
   "metadata": {
    "colab": {
     "base_uri": "https://localhost:8080/"
    },
    "id": "VuX91lKm9ny5",
    "outputId": "5832cb67-d7cc-488b-a83f-b56943fcdae4"
   },
   "outputs": [],
   "source": [
    "import numpy as np\n",
    "import pandas as pd\n",
    "from sklearn.feature_selection import mutual_info_classif\n",
    "\n",
    "\n",
    "df_X = X_new\n",
    "df_y = data_train.target  # Целевая переменная\n",
    "\n",
    "# Рассчитываем MI score для каждого признака\n",
    "mi_scores = mutual_info_classif(df_X, df_y)\n",
    "\n",
    "# Создаем DataFrame для удобного отображения результатов\n",
    "mi_scores_df = pd.DataFrame(mi_scores, index=X, columns=['MI Score'])\n",
    "mi_scores_df = mi_scores_df.sort_values(by='MI Score', ascending=False)\n",
    "\n",
    "\n",
    "mi_scores_df.to_pickle('mi_scores.pkl')"
   ]
  },
  {
   "cell_type": "code",
   "execution_count": 9,
   "metadata": {
    "colab": {
     "base_uri": "https://localhost:8080/"
    },
    "id": "CvZ44igIfaCP",
    "outputId": "bf6b02de-cc1e-47c1-81b2-74208277be41"
   },
   "outputs": [
    {
     "name": "stdout",
     "output_type": "stream",
     "text": [
      "86\n"
     ]
    },
    {
     "data": {
      "text/plain": [
       "Index(['feature_71', 'feature_109', 'feature_72', 'feature_127', 'feature_16',\n",
       "       'feature_87', 'feature_124', 'feature_161', 'feature_11', 'feature_29',\n",
       "       'feature_84', 'feature_134', 'feature_31', 'feature_179', 'feature_122',\n",
       "       'feature_55', 'feature_133', 'feature_75', 'feature_142', 'feature_60',\n",
       "       'feature_146', 'feature_163', 'feature_143', 'feature_7', 'feature_21',\n",
       "       'feature_185', 'feature_100', 'feature_38', 'feature_95', 'feature_147',\n",
       "       'feature_18', 'feature_93', 'feature_62', 'feature_8', 'feature_12',\n",
       "       'feature_43', 'feature_167', 'feature_33', 'feature_152', 'feature_168',\n",
       "       'feature_46', 'feature_157', 'feature_183', 'feature_61', 'feature_77',\n",
       "       'feature_66', 'feature_59', 'feature_6', 'feature_177', 'feature_156',\n",
       "       'feature_181', 'feature_141', 'feature_76', 'feature_20', 'feature_26',\n",
       "       'feature_25', 'feature_103', 'feature_169', 'feature_35', 'feature_81'],\n",
       "      dtype='object')"
      ]
     },
     "execution_count": 9,
     "metadata": {},
     "output_type": "execute_result"
    }
   ],
   "source": [
    "#print(mi_scores_df[:60])\n",
    "df = pd.DataFrame(mi_scores_df)\n",
    "\n",
    "# Подсчет количества строк, где значение в столбце 'MI Score' больше 0.003\n",
    "count_greater_than_0_003 = df[df['MI Score'] > 0.002].shape[0]\n",
    "\n",
    "print(count_greater_than_0_003)\n",
    "mi_scores_df.index[:60]"
   ]
  },
  {
   "cell_type": "code",
   "execution_count": null,
   "metadata": {
    "id": "nB5XeR-A2oNQ"
   },
   "outputs": [],
   "source": [
    "\n",
    "smote = SMOTE(\n",
    "    sampling_strategy='auto',  # Стратегия выборки. 'auto' означает увеличение меньшего класса до размера большинственного.\n",
    "    random_state=None,         # Зерно для генератора случайных чисел.\n",
    "    k_neighbors=5,             # Количество ближайших соседей для создания синтетических примеров.\n",
    "    n_jobs=1                   # Количество ядер для параллельной работы. -1 означает использование всех доступных ядер.\n",
    ")"
   ]
  },
  {
   "cell_type": "code",
   "execution_count": null,
   "metadata": {
    "colab": {
     "base_uri": "https://localhost:8080/"
    },
    "id": "IKuSu3yajxfa",
    "outputId": "79501bc5-e27a-4e79-bbe7-6237b7018386"
   },
   "outputs": [],
   "source": []
  },
  {
   "cell_type": "code",
   "execution_count": null,
   "metadata": {},
   "outputs": [],
   "source": []
  },
  {
   "cell_type": "code",
   "execution_count": null,
   "metadata": {
    "colab": {
     "base_uri": "https://localhost:8080/"
    },
    "id": "KyShU4nVKKsj",
    "outputId": "5e150ac6-0f1d-4fd6-8d00-b66b0f4eb01d"
   },
   "outputs": [],
   "source": [
    "!pip install torch"
   ]
  },
  {
   "cell_type": "code",
   "execution_count": null,
   "metadata": {
    "colab": {
     "base_uri": "https://localhost:8080/"
    },
    "id": "XPdvnAgVSfmp",
    "outputId": "34c8ec9a-90a9-48c2-fb6b-b20d309a1a83"
   },
   "outputs": [],
   "source": [
    "X = data_train[mi_scores_df.index[:83]]\n",
    "y = data_train['target']  # Целевая переменная\n",
    "for i in mi_scores_df.index[:83]:\n",
    "  X[i] = X[i].fillna(X[i].mean())\n",
    "\n",
    "scaler = StandardScaler()\n",
    "print(scaler.fit(X))\n",
    "#print(scaler.mean_)\n",
    "X = scaler.transform(X)\n",
    "print(X)"
   ]
  },
  {
   "cell_type": "code",
   "execution_count": null,
   "metadata": {
    "id": "DBMoUXXzgZem"
   },
   "outputs": [],
   "source": [
    "from sklearn.metrics import roc_curve, auc\n",
    "from sklearn.metrics import roc_auc_score\n",
    "from matplotlib import pyplot as plt"
   ]
  },
  {
   "cell_type": "code",
   "execution_count": null,
   "metadata": {},
   "outputs": [],
   "source": []
  },
  {
   "cell_type": "code",
   "execution_count": null,
   "metadata": {
    "colab": {
     "base_uri": "https://localhost:8080/"
    },
    "id": "gorY5xyf2_Dq",
    "outputId": "42536b35-105f-4b10-8bc3-8fede25a7ade"
   },
   "outputs": [],
   "source": [
    "import cudf\n",
    "import cupy as cp\n",
    "from cuml.cluster import SpectralClustering\n",
    "\n",
    "n_clusters = 10  # Задайте количество кластеров\n",
    "\n",
    "# Конвертируйте ваши данные в cuDF DataFrame, если они в формате NumPy\n",
    "if isinstance(X, np.ndarray):\n",
    "    X = cudf.DataFrame.from_records(X)\n",
    "\n",
    "# Выполнение спектральной кластеризации на GPU\n",
    "spectral_clustering = SpectralClustering(n_clusters=n_clusters, affinity='nearest_neighbors', random_state=42)\n",
    "clusters = spectral_clustering.fit_predict(X)\n",
    "\n",
    "# Добавьте результаты кластеризации в ваши данные\n",
    "X['cluster'] = clusters\n",
    "\n",
    "# Сохраните результаты в CSV (конвертируйте обратно в pandas DataFrame)\n",
    "X.to_csv('clusters_X.csv', index=False)\n",
    "\n",
    "print(clusters.shape)"
   ]
  },
  {
   "cell_type": "code",
   "execution_count": null,
   "metadata": {
    "colab": {
     "base_uri": "https://localhost:8080/",
     "height": 1000
    },
    "id": "rQikxyQBibhQ",
    "outputId": "6506cdb0-9f5b-41f3-b426-4df22a5d536f"
   },
   "outputs": [],
   "source": [
    "import pandas as pd\n",
    "import numpy as np\n",
    "from sklearn.model_selection import train_test_split\n",
    "from sklearn.preprocessing import StandardScaler\n",
    "from sklearn.cluster import SpectralClustering\n",
    "from tensorflow import keras\n",
    "from tensorflow.keras import layers\n",
    "from sklearn.metrics import roc_auc_score\n",
    "\n",
    "\n",
    "# Разделите данные на обучающую и тестовую выборки\n",
    "X_train, X_test, y_train, y_test = train_test_split(X, y, test_size=0.2, random_state=42)\n",
    "\n",
    "\n",
    "for input_n in [16]:\n",
    "\n",
    "  for secret_n in [32]:\n",
    "    for batch_s in [20]:\n",
    "# Создайте модель FNN\n",
    "      model = keras.Sequential([\n",
    "        layers.Input(shape=(X_train.shape[1],)),  # Входной слой\n",
    "        layers.Dense(input_n, activation='relu'),  # Скрытый слой с 128 нейронами\n",
    "        layers.Dense(secret_n, activation='relu'),   # Скрытый слой с 64 нейронами\n",
    "        layers.Dense(1, activation='sigmoid')   # Выходной слой для бинарной классификации\n",
    "      ])\n",
    "\n",
    "# Компилируйте модель\n",
    "      model.compile(optimizer='adam',\n",
    "                loss='binary_crossentropy',\n",
    "                metrics=['auc'])\n",
    "\n",
    "\n",
    "\n",
    "# Обучите модель\n",
    "#metrics = Metrics()\n",
    "      print(\"при input_n = %d\" %input_n, \" и secret_n = %.i\" %secret_n, \"а также batch = %.i\" %batch_s, \"\\n\")\n",
    "      history = model.fit(X_train, y_train,  epochs=20,validation_split=0.2, batch_size = batch_s)\n",
    "      lr_probs = model.predict(X_test)\n",
    "# сохраняем вероятности только для положительного исхода\n",
    "      lr_probs = lr_probs\n",
    "# рассчитываем ROC AUC\n",
    "      lr_auc = roc_auc_score(y_test, lr_probs)\n",
    "      print('FNN: ROC AUC=%.3f' % (lr_auc))\n",
    "# рассчитываем roc-кривую\n",
    "      fpr, tpr, treshold = roc_curve(y_test, lr_probs)\n",
    "      roc_auc = auc(fpr, tpr)\n",
    "# строим график\n",
    "      plt.plot(fpr, tpr, color='darkorange',label='ROC кривая (area = %0.2f)' % roc_auc)\n",
    "      plt.plot([0, 1], [0, 1], color='navy', linestyle='--')\n",
    "      plt.xlim([0.0, 1.0])\n",
    "      s = 'fnn-'+str(input_n)+'-'+str(secret_n)+'-'+str(batch_s)+'83f'+'.keras'\n",
    "      model.save(s)\n",
    "\n",
    "# Сохранение модели в pkl файл\n",
    "#model.save('model_fnn.h5')\n",
    "#metrics.get_data()\n",
    "# Получите метрики\n",
    "# Оцените модель на тестовых данных\n",
    "#y_predict = model.predict(X_test)\n",
    "#print(f'Test accuracy: {test_accuracy:.4f}')"
   ]
  },
  {
   "cell_type": "markdown",
   "metadata": {
    "id": "0WZmtLo9eqqp"
   },
   "source": [
    "В валидации получаем оценку ROC-AUC стабильно 0.79+ при работе на 40 эпохах и переменных размерах batch, inputsize и прочем."
   ]
  },
  {
   "cell_type": "code",
   "execution_count": null,
   "metadata": {
    "colab": {
     "base_uri": "https://localhost:8080/",
     "height": 482
    },
    "id": "uI4jwPlFepHn",
    "outputId": "f39b7537-b955-46f3-f81b-ed4b31a8bced"
   },
   "outputs": [],
   "source": [
    "lr_probs = model.predict(X_test)\n",
    "# сохраняем вероятности только для положительного исхода\n",
    "lr_probs = lr_probs\n",
    "# рассчитываем ROC AUC\n",
    "lr_auc = roc_auc_score(y_test, lr_probs)\n",
    "print('FNN: ROC AUC=%.3f' % (lr_auc))\n",
    "# рассчитываем roc-кривую\n",
    "fpr, tpr, treshold = roc_curve(y_test, lr_probs)\n",
    "roc_auc = auc(fpr, tpr)\n",
    "# строим график\n",
    "plt.plot(fpr, tpr, color='darkorange',\n",
    "         label='ROC кривая (area = %0.2f)' % roc_auc)\n",
    "plt.plot([0, 1], [0, 1], color='navy', linestyle='--')\n",
    "plt.xlim([0.0, 1.0])"
   ]
  },
  {
   "cell_type": "markdown",
   "metadata": {
    "id": "k6AlmKv63Kf_"
   },
   "source": [
    "## Этап 3. Предсказание для тестовых данных"
   ]
  },
  {
   "cell_type": "markdown",
   "metadata": {
    "id": "7wZxYrED3OUA"
   },
   "source": [
    "Получим предсказание на тестовых данных"
   ]
  },
  {
   "cell_type": "code",
   "execution_count": null,
   "metadata": {
    "id": "DBdeCwx93QEx"
   },
   "outputs": [],
   "source": [
    "# Обучим модель на полных тренировочных данных\n",
    "gbdt_clf = HistGradientBoostingClassifier(min_samples_leaf=1,\n",
    "                                          max_depth=6,\n",
    "                                          max_iter=500,\n",
    "                                          random_state=42).fit(X, y)\n",
    "\n",
    "# Для предсказания используем тестовый датасет с исключенным признаком smpl\n",
    "y_test_pred = gbdt_clf.predict_proba(data_test.drop(['smpl'], axis=1))\n",
    "\n",
    "# Переведем предсказание в формат Series\n",
    "y_test_pred = pd.Series(y_test_pred[:, 1])\n",
    "\n",
    "# Добавим данные предсказания к датасету\n",
    "data_test['target'] = y_test_pred\n",
    "\n",
    "# Сохраним итоговые данные об id и предсказаниях в формате csv\n",
    "data_test[['id', 'target']].to_csv('baseline_submission_case3.csv', index=False)"
   ]
  },
  {
   "cell_type": "markdown",
   "metadata": {
    "id": "BG1eN8FR3SAM"
   },
   "source": [
    "Baseline создан компанией Changellenge >> - ведущей организацией по кейсам в России, для хакатона Alfa Hack.  \n",
    "\n",
    "Запрещено распространение данного файла, файлов данных в форматах csv, а также текста кейса без письменного разрешения владельца авторских прав в лице компании Changellenge>>."
   ]
  }
 ],
 "metadata": {
  "colab": {
   "provenance": []
  },
  "kernelspec": {
   "display_name": "Python 3 (ipykernel)",
   "language": "python",
   "name": "python3"
  },
  "language_info": {
   "codemirror_mode": {
    "name": "ipython",
    "version": 3
   },
   "file_extension": ".py",
   "mimetype": "text/x-python",
   "name": "python",
   "nbconvert_exporter": "python",
   "pygments_lexer": "ipython3",
   "version": "3.11.3"
  }
 },
 "nbformat": 4,
 "nbformat_minor": 1
}
