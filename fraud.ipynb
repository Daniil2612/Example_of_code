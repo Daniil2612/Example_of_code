{
 "cells": [
  {
   "cell_type": "code",
   "execution_count": null,
   "metadata": {
    "_cell_guid": "b1076dfc-b9ad-4769-8c92-a6c4dae69d19",
    "_uuid": "8f2839f25d086af736a60e9eeb907d3b93b6e0e5",
    "execution": {
     "iopub.execute_input": "2024-11-26T21:19:22.386792Z",
     "iopub.status.busy": "2024-11-26T21:19:22.386265Z",
     "iopub.status.idle": "2024-11-26T21:19:23.290328Z",
     "shell.execute_reply": "2024-11-26T21:19:23.288997Z",
     "shell.execute_reply.started": "2024-11-26T21:19:22.38675Z"
    }
   },
   "outputs": [],
   "source": [
    "#This project is about fraud in the field of insurance of CTP and CASCO cars. \n",
    "#I cannot provide the full source code due to the signed agreement on non-disclosure of corporate information.\n",
    "\n",
    "import numpy as np \n",
    "import pandas as pd \n",
    "import matplotlib.pyplot as plt\n",
    "import seaborn as sns\n",
    "import os"
   ]
  },
  {
   "cell_type": "code",
   "execution_count": null,
   "metadata": {
    "execution": {
     "iopub.execute_input": "2024-11-26T21:19:53.934813Z",
     "iopub.status.busy": "2024-11-26T21:19:53.933477Z",
     "iopub.status.idle": "2024-11-26T21:20:03.219212Z",
     "shell.execute_reply": "2024-11-26T21:20:03.217804Z",
     "shell.execute_reply.started": "2024-11-26T21:19:53.934764Z"
    }
   },
   "outputs": [],
   "source": [
    "df = pd.read_csv('cofidential info')"
   ]
  },
  {
   "cell_type": "code",
   "execution_count": null,
   "metadata": {
    "execution": {
     "iopub.execute_input": "2024-11-26T21:20:09.300312Z",
     "iopub.status.busy": "2024-11-26T21:20:09.299902Z",
     "iopub.status.idle": "2024-11-26T21:20:09.52536Z",
     "shell.execute_reply": "2024-11-26T21:20:09.52399Z",
     "shell.execute_reply.started": "2024-11-26T21:20:09.300274Z"
    }
   },
   "outputs": [],
   "source": [
    "df"
   ]
  },
  {
   "cell_type": "code",
   "execution_count": null,
   "metadata": {
    "execution": {
     "iopub.execute_input": "2024-11-26T21:20:47.626506Z",
     "iopub.status.busy": "2024-11-26T21:20:47.626139Z",
     "iopub.status.idle": "2024-11-26T21:20:47.652067Z",
     "shell.execute_reply": "2024-11-26T21:20:47.650732Z",
     "shell.execute_reply.started": "2024-11-26T21:20:47.626472Z"
    }
   },
   "outputs": [],
   "source": [
    "df.head()"
   ]
  },
  {
   "cell_type": "code",
   "execution_count": null,
   "metadata": {
    "execution": {
     "iopub.execute_input": "2024-11-26T21:20:59.230213Z",
     "iopub.status.busy": "2024-11-26T21:20:59.229714Z",
     "iopub.status.idle": "2024-11-26T21:20:59.263378Z",
     "shell.execute_reply": "2024-11-26T21:20:59.262083Z",
     "shell.execute_reply.started": "2024-11-26T21:20:59.230172Z"
    }
   },
   "outputs": [],
   "source": [
    "df.tail()"
   ]
  },
  {
   "cell_type": "code",
   "execution_count": null,
   "metadata": {
    "execution": {
     "iopub.execute_input": "2024-11-26T21:21:23.666318Z",
     "iopub.status.busy": "2024-11-26T21:21:23.66594Z",
     "iopub.status.idle": "2024-11-26T21:21:23.729559Z",
     "shell.execute_reply": "2024-11-26T21:21:23.728375Z",
     "shell.execute_reply.started": "2024-11-26T21:21:23.666284Z"
    }
   },
   "outputs": [],
   "source": [
    "df.info()"
   ]
  },
  {
   "cell_type": "code",
   "execution_count": null,
   "metadata": {
    "execution": {
     "iopub.execute_input": "2024-11-26T21:21:48.337514Z",
     "iopub.status.busy": "2024-11-26T21:21:48.337098Z",
     "iopub.status.idle": "2024-11-26T21:21:48.378296Z",
     "shell.execute_reply": "2024-11-26T21:21:48.376934Z",
     "shell.execute_reply.started": "2024-11-26T21:21:48.33748Z"
    }
   },
   "outputs": [],
   "source": [
    "df.isnull().sum()"
   ]
  },
  {
   "cell_type": "code",
   "execution_count": null,
   "metadata": {
    "execution": {
     "iopub.execute_input": "2024-11-26T21:22:09.472944Z",
     "iopub.status.busy": "2024-11-26T21:22:09.472464Z",
     "iopub.status.idle": "2024-11-26T21:22:11.493167Z",
     "shell.execute_reply": "2024-11-26T21:22:11.492048Z",
     "shell.execute_reply.started": "2024-11-26T21:22:09.472907Z"
    }
   },
   "outputs": [],
   "source": [
    "df.duplicated().sum()"
   ]
  },
  {
   "cell_type": "code",
   "execution_count": null,
   "metadata": {
    "execution": {
     "iopub.execute_input": "2024-11-26T21:22:27.16344Z",
     "iopub.status.busy": "2024-11-26T21:22:27.162964Z",
     "iopub.status.idle": "2024-11-26T21:22:27.998616Z",
     "shell.execute_reply": "2024-11-26T21:22:27.997298Z",
     "shell.execute_reply.started": "2024-11-26T21:22:27.163402Z"
    }
   },
   "outputs": [],
   "source": [
    "df.describe()"
   ]
  },
  {
   "cell_type": "code",
   "execution_count": null,
   "metadata": {
    "execution": {
     "iopub.execute_input": "2024-11-26T21:22:44.870018Z",
     "iopub.status.busy": "2024-11-26T21:22:44.869637Z",
     "iopub.status.idle": "2024-11-26T21:22:44.922682Z",
     "shell.execute_reply": "2024-11-26T21:22:44.921444Z",
     "shell.execute_reply.started": "2024-11-26T21:22:44.869967Z"
    }
   },
   "outputs": [],
   "source": [
    "df.drop(['id'] , axis=1 , inplace=True)"
   ]
  },
  {
   "cell_type": "code",
   "execution_count": null,
   "metadata": {
    "execution": {
     "iopub.execute_input": "2024-11-26T21:23:00.673831Z",
     "iopub.status.busy": "2024-11-26T21:23:00.673441Z",
     "iopub.status.idle": "2024-11-26T21:23:00.681314Z",
     "shell.execute_reply": "2024-11-26T21:23:00.680019Z",
     "shell.execute_reply.started": "2024-11-26T21:23:00.67379Z"
    }
   },
   "outputs": [],
   "source": [
    "df.columns"
   ]
  },
  {
   "cell_type": "code",
   "execution_count": null,
   "metadata": {
    "execution": {
     "iopub.execute_input": "2024-11-26T21:25:01.92894Z",
     "iopub.status.busy": "2024-11-26T21:25:01.928498Z",
     "iopub.status.idle": "2024-11-26T21:25:02.001658Z",
     "shell.execute_reply": "2024-11-26T21:25:01.999793Z",
     "shell.execute_reply.started": "2024-11-26T21:25:01.928899Z"
    }
   },
   "outputs": [],
   "source": [
    "data = df.select_dtypes('float')"
   ]
  },
  {
   "cell_type": "code",
   "execution_count": null,
   "metadata": {
    "execution": {
     "iopub.execute_input": "2024-11-26T21:25:15.294828Z",
     "iopub.status.busy": "2024-11-26T21:25:15.294418Z",
     "iopub.status.idle": "2024-11-26T21:25:21.089718Z",
     "shell.execute_reply": "2024-11-26T21:25:21.088614Z",
     "shell.execute_reply.started": "2024-11-26T21:25:15.294775Z"
    }
   },
   "outputs": [],
   "source": [
    "for X in data:\n",
    "    plt.figure(figsize=(6,6))\n",
    "    sns.boxplot(x=df[X])\n",
    "    plt.show()"
   ]
  },
  {
   "cell_type": "code",
   "execution_count": null,
   "metadata": {
    "execution": {
     "iopub.execute_input": "2024-11-26T21:27:03.57271Z",
     "iopub.status.busy": "2024-11-26T21:27:03.572336Z",
     "iopub.status.idle": "2024-11-26T21:27:04.423546Z",
     "shell.execute_reply": "2024-11-26T21:27:04.422281Z",
     "shell.execute_reply.started": "2024-11-26T21:27:03.572678Z"
    }
   },
   "outputs": [],
   "source": [
    "for feature in df:\n",
    "    Q1 = df[feature].quantile(q = 0.25) \n",
    "    Q3 = df[feature].quantile(q = 0.75)\n",
    "    IQR = Q3-Q1\n",
    "    low = Q1 - 1.5*IQR\n",
    "    upp = Q3 + 1.5*IQR\n",
    "    df[feature] = np.where(df[feature]< low, low, df[feature])\n",
    "    df[feature] = np.where(df[feature]> upp, upp, df[feature])"
   ]
  },
  {
   "cell_type": "code",
   "execution_count": null,
   "metadata": {
    "execution": {
     "iopub.execute_input": "2024-11-26T21:27:29.802572Z",
     "iopub.status.busy": "2024-11-26T21:27:29.80219Z",
     "iopub.status.idle": "2024-11-26T21:27:34.211355Z",
     "shell.execute_reply": "2024-11-26T21:27:34.210103Z",
     "shell.execute_reply.started": "2024-11-26T21:27:29.802538Z"
    }
   },
   "outputs": [],
   "source": [
    "numerical_features = df.select_dtypes('float')\n",
    "for feature in numerical_features:\n",
    "    plt.figure(figsize=(4, 4))\n",
    "    sns.boxplot(x=df[feature]) \n",
    "    plt.title(feature)\n",
    "    plt.show()"
   ]
  },
  {
   "cell_type": "code",
   "execution_count": null,
   "metadata": {
    "execution": {
     "iopub.execute_input": "2024-11-26T21:28:18.665212Z",
     "iopub.status.busy": "2024-11-26T21:28:18.664807Z",
     "iopub.status.idle": "2024-11-26T21:28:22.620793Z",
     "shell.execute_reply": "2024-11-26T21:28:22.619577Z",
     "shell.execute_reply.started": "2024-11-26T21:28:18.665178Z"
    }
   },
   "outputs": [],
   "source": [
    "correlation_matrix = df.corr()\n",
    "plt.figure(figsize = (20, 15))\n",
    "sns.heatmap(correlation_matrix, annot = True, cmap = 'coolwarm', linewidths = 0.5)\n",
    "plt.title(\"Correlation Matrix\")\n",
    "plt.show()"
   ]
  },
  {
   "cell_type": "code",
   "execution_count": null,
   "metadata": {
    "execution": {
     "iopub.execute_input": "2024-11-26T21:29:26.586445Z",
     "iopub.status.busy": "2024-11-26T21:29:26.58605Z",
     "iopub.status.idle": "2024-11-26T21:29:28.187605Z",
     "shell.execute_reply": "2024-11-26T21:29:28.186275Z",
     "shell.execute_reply.started": "2024-11-26T21:29:26.586395Z"
    }
   },
   "outputs": [],
   "source": [
    "threshold = 0.01\n",
    "correlation_Matrix = df.corr()\n",
    "high_corr_features = correlation_Matrix.index[abs(correlation_Matrix[\"Class\"] > threshold)].tolist()\n",
    "high_corr_features.remove('Class')\n",
    "print(f\"The selected features : {high_corr_features}\")\n",
    "x = df[high_corr_features]\n",
    "y = df['Class']"
   ]
  },
  {
   "cell_type": "code",
   "execution_count": null,
   "metadata": {
    "execution": {
     "iopub.execute_input": "2024-11-26T21:29:57.708541Z",
     "iopub.status.busy": "2024-11-26T21:29:57.708159Z",
     "iopub.status.idle": "2024-11-26T21:29:57.801293Z",
     "shell.execute_reply": "2024-11-26T21:29:57.800011Z",
     "shell.execute_reply.started": "2024-11-26T21:29:57.708507Z"
    }
   },
   "outputs": [],
   "source": [
    "from sklearn.preprocessing import MinMaxScaler"
   ]
  },
  {
   "cell_type": "code",
   "execution_count": null,
   "metadata": {
    "execution": {
     "iopub.execute_input": "2024-11-26T21:30:01.059671Z",
     "iopub.status.busy": "2024-11-26T21:30:01.059296Z",
     "iopub.status.idle": "2024-11-26T21:30:01.177661Z",
     "shell.execute_reply": "2024-11-26T21:30:01.176371Z",
     "shell.execute_reply.started": "2024-11-26T21:30:01.059638Z"
    }
   },
   "outputs": [],
   "source": [
    "scaler = MinMaxScaler()\n",
    "scaled_data = scaler.fit_transform(x)\n",
    "scaled_data"
   ]
  },
  {
   "cell_type": "code",
   "execution_count": null,
   "metadata": {
    "execution": {
     "iopub.execute_input": "2024-11-26T21:30:24.623545Z",
     "iopub.status.busy": "2024-11-26T21:30:24.623169Z",
     "iopub.status.idle": "2024-11-26T21:30:24.945511Z",
     "shell.execute_reply": "2024-11-26T21:30:24.944334Z",
     "shell.execute_reply.started": "2024-11-26T21:30:24.623515Z"
    }
   },
   "outputs": [],
   "source": [
    "from sklearn.linear_model import LogisticRegression\n",
    "from sklearn.model_selection import train_test_split\n",
    "from sklearn.neighbors import KNeighborsClassifier"
   ]
  },
  {
   "cell_type": "code",
   "execution_count": null,
   "metadata": {
    "execution": {
     "iopub.execute_input": "2024-11-26T21:30:39.932219Z",
     "iopub.status.busy": "2024-11-26T21:30:39.931655Z",
     "iopub.status.idle": "2024-11-26T21:30:40.093202Z",
     "shell.execute_reply": "2024-11-26T21:30:40.092098Z",
     "shell.execute_reply.started": "2024-11-26T21:30:39.932177Z"
    }
   },
   "outputs": [],
   "source": [
    " X_train, X_test, y_train, y_test = train_test_split(scaled_data, y, test_size=0.33, random_state=42)"
   ]
  },
  {
   "cell_type": "code",
   "execution_count": null,
   "metadata": {
    "execution": {
     "iopub.execute_input": "2024-11-26T21:30:58.264021Z",
     "iopub.status.busy": "2024-11-26T21:30:58.263565Z",
     "iopub.status.idle": "2024-11-26T21:30:58.270558Z",
     "shell.execute_reply": "2024-11-26T21:30:58.269267Z",
     "shell.execute_reply.started": "2024-11-26T21:30:58.263959Z"
    }
   },
   "outputs": [],
   "source": [
    "print(x.shape, X_train.shape, X_test.shape)"
   ]
  },
  {
   "cell_type": "code",
   "execution_count": null,
   "metadata": {
    "execution": {
     "iopub.execute_input": "2024-11-26T21:31:19.333029Z",
     "iopub.status.busy": "2024-11-26T21:31:19.331812Z",
     "iopub.status.idle": "2024-11-26T21:31:19.337574Z",
     "shell.execute_reply": "2024-11-26T21:31:19.336349Z",
     "shell.execute_reply.started": "2024-11-26T21:31:19.33295Z"
    }
   },
   "outputs": [],
   "source": [
    "model1 = LogisticRegression()"
   ]
  },
  {
   "cell_type": "code",
   "execution_count": null,
   "metadata": {
    "execution": {
     "iopub.execute_input": "2024-11-26T21:31:29.555921Z",
     "iopub.status.busy": "2024-11-26T21:31:29.555538Z",
     "iopub.status.idle": "2024-11-26T21:31:30.408885Z",
     "shell.execute_reply": "2024-11-26T21:31:30.406905Z",
     "shell.execute_reply.started": "2024-11-26T21:31:29.555886Z"
    }
   },
   "outputs": [],
   "source": [
    "model1.fit(X_train, y_train)"
   ]
  },
  {
   "cell_type": "code",
   "execution_count": null,
   "metadata": {
    "execution": {
     "iopub.execute_input": "2024-11-26T21:31:44.281412Z",
     "iopub.status.busy": "2024-11-26T21:31:44.281036Z",
     "iopub.status.idle": "2024-11-26T21:31:44.298866Z",
     "shell.execute_reply": "2024-11-26T21:31:44.296392Z",
     "shell.execute_reply.started": "2024-11-26T21:31:44.281381Z"
    }
   },
   "outputs": [],
   "source": [
    "y_pred = model1.predict(X_test)\n",
    "print(y_pred)"
   ]
  },
  {
   "cell_type": "code",
   "execution_count": null,
   "metadata": {
    "execution": {
     "iopub.execute_input": "2024-11-26T21:33:36.442939Z",
     "iopub.status.busy": "2024-11-26T21:33:36.442518Z",
     "iopub.status.idle": "2024-11-26T21:33:36.448271Z",
     "shell.execute_reply": "2024-11-26T21:33:36.447061Z",
     "shell.execute_reply.started": "2024-11-26T21:33:36.442898Z"
    }
   },
   "outputs": [],
   "source": [
    "from sklearn.metrics import accuracy_score"
   ]
  },
  {
   "cell_type": "code",
   "execution_count": null,
   "metadata": {
    "execution": {
     "iopub.execute_input": "2024-11-26T21:33:42.104708Z",
     "iopub.status.busy": "2024-11-26T21:33:42.104206Z",
     "iopub.status.idle": "2024-11-26T21:33:42.149744Z",
     "shell.execute_reply": "2024-11-26T21:33:42.148367Z",
     "shell.execute_reply.started": "2024-11-26T21:33:42.104653Z"
    }
   },
   "outputs": [],
   "source": [
    "test_acc = accuracy_score(y_test, y_pred)\n",
    "print(test_acc)"
   ]
  },
  {
   "cell_type": "code",
   "execution_count": null,
   "metadata": {
    "execution": {
     "iopub.execute_input": "2024-11-26T21:34:18.574163Z",
     "iopub.status.busy": "2024-11-26T21:34:18.57292Z",
     "iopub.status.idle": "2024-11-26T21:34:20.057048Z",
     "shell.execute_reply": "2024-11-26T21:34:20.055844Z",
     "shell.execute_reply.started": "2024-11-26T21:34:18.574099Z"
    }
   },
   "outputs": [],
   "source": [
    "from sklearn.neighbors import KNeighborsClassifier\n",
    "k = 3  \n",
    "knn = KNeighborsClassifier(n_neighbors=k)\n",
    "knn.fit(X_train, y_train)"
   ]
  },
  {
   "cell_type": "code",
   "execution_count": null,
   "metadata": {
    "execution": {
     "iopub.execute_input": "2024-11-26T21:34:51.919967Z",
     "iopub.status.busy": "2024-11-26T21:34:51.919565Z",
     "iopub.status.idle": "2024-11-26T21:36:01.623278Z",
     "shell.execute_reply": "2024-11-26T21:36:01.622113Z",
     "shell.execute_reply.started": "2024-11-26T21:34:51.91993Z"
    }
   },
   "outputs": [],
   "source": [
    "y_pred = knn.predict(X_test)\n",
    "print(y_pred)"
   ]
  },
  {
   "cell_type": "code",
   "execution_count": null,
   "metadata": {
    "execution": {
     "iopub.execute_input": "2024-11-26T21:36:30.534572Z",
     "iopub.status.busy": "2024-11-26T21:36:30.534185Z",
     "iopub.status.idle": "2024-11-26T21:36:30.568434Z",
     "shell.execute_reply": "2024-11-26T21:36:30.567267Z",
     "shell.execute_reply.started": "2024-11-26T21:36:30.53454Z"
    }
   },
   "outputs": [],
   "source": [
    "test_acc2 = accuracy_score(y_test, y_pred)\n",
    "print(test_acc2)"
   ]
  }
 ],
 "metadata": {
  "kaggle": {
   "accelerator": "none",
   "dataSources": [
    {
     "datasetId": 3752264,
     "sourceId": 6492730,
     "sourceType": "datasetVersion"
    }
   ],
   "dockerImageVersionId": 30786,
   "isGpuEnabled": false,
   "isInternetEnabled": false,
   "language": "python",
   "sourceType": "notebook"
  },
  "kernelspec": {
   "display_name": "Python 3 (ipykernel)",
   "language": "python",
   "name": "python3"
  },
  "language_info": {
   "codemirror_mode": {
    "name": "ipython",
    "version": 3
   },
   "file_extension": ".py",
   "mimetype": "text/x-python",
   "name": "python",
   "nbconvert_exporter": "python",
   "pygments_lexer": "ipython3",
   "version": "3.11.3"
  }
 },
 "nbformat": 4,
 "nbformat_minor": 4
}
